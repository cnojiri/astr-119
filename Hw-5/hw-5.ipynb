{
 "cells": [
  {
   "cell_type": "markdown",
   "id": "94ed713b",
   "metadata": {},
   "source": [
    "# ASTR119-Homework #5:\n",
    "write a jupyter notebook to numerically integrate:\n",
    "    \n",
    "    f(x) = e^(-2x) cos(10x)\n",
    "    \n",
    "over the range:  [0,pi]\n",
    "\n",
    "tolerance = 1.0e-6"
   ]
  },
  {
   "cell_type": "code",
   "execution_count": 118,
   "id": "a929cbb4",
   "metadata": {},
   "outputs": [],
   "source": [
    "%matplotlib inline\n",
    "import numpy as np\n",
    "import matplotlib.pyplot as plt"
   ]
  },
  {
   "cell_type": "code",
   "execution_count": 119,
   "id": "fe162692",
   "metadata": {},
   "outputs": [],
   "source": [
    "def func(x): #defining the function\n",
    "    a = -2\n",
    "    b = 10\n",
    "    return (np.e**a*x)*np.cos(b*x)"
   ]
  },
  {
   "cell_type": "code",
   "execution_count": 120,
   "id": "63724cea",
   "metadata": {},
   "outputs": [],
   "source": [
    "def func_integral(x): #defining the function integral\n",
    "    a=-2\n",
    "    b=10\n",
    "    return ((np.e**(a*x))*((5*np.sin(b*x))-(np.cos(b*x))))/52"
   ]
  },
  {
   "cell_type": "markdown",
   "id": "d651f9ad",
   "metadata": {},
   "source": [
    "## Trapezoid Method:"
   ]
  },
  {
   "cell_type": "code",
   "execution_count": 121,
   "id": "4cba0258",
   "metadata": {},
   "outputs": [],
   "source": [
    "def trapezoid_core(f,x,h): #defining core of the trapezoid method\n",
    "    return 0.5*h*(f(x+h)+f(x))"
   ]
  },
  {
   "cell_type": "code",
   "execution_count": 122,
   "id": "93712389",
   "metadata": {},
   "outputs": [],
   "source": [
    "def trapezoid_method(f,a,b,N): #define a wrapper fxn to preform the trapezoid method\n",
    "    # f == function to integrate\n",
    "    # a == lower limit of integration\n",
    "    # b == upper limit of integration\n",
    "    # N == number of function evaluations to use\n",
    "    \n",
    "    #define x values to perform trapezoid rule\n",
    "    x = np.linspace(a,b,N)\n",
    "    h = x[1]-x[0]\n",
    "    \n",
    "    #define the value of the integral\n",
    "    Fint = 0.0\n",
    "    \n",
    "    #preform the integral using trapezoid method\n",
    "    for i in range (0, len(x)-1,1):\n",
    "        Fint += trapezoid_core(f,x[i],h)\n",
    "    \n",
    "    #return the answer\n",
    "    return Fint"
   ]
  },
  {
   "cell_type": "markdown",
   "id": "5031f803",
   "metadata": {},
   "source": [
    "## Simpson Method"
   ]
  },
  {
   "cell_type": "code",
   "execution_count": 123,
   "id": "63b9e63e",
   "metadata": {},
   "outputs": [],
   "source": [
    "def simpsons_core(f,x,h): #define the Simpson's Method\n",
    "    return h*( f(x)+ 4*f(x+h) + f(x+2*h))/3."
   ]
  },
  {
   "cell_type": "code",
   "execution_count": 124,
   "id": "714082d4",
   "metadata": {},
   "outputs": [],
   "source": [
    "def simpsons_method(f,a,b,N): #def a wrapper fxn to preform simpsons method\n",
    "    #f == function to integrate\n",
    "    #a == lower limit of integration\n",
    "    #b == upper limit of integration\n",
    "    #N == number of functions evaluations to use \n",
    "    #note the number of chuncls will be N-1\n",
    "    #so if N is odd, then we don't neeed to adjust the \n",
    "    #last argument\n",
    "    \n",
    "    #define x values to preform a simpson's rule\n",
    "    x = np.linspace(a,b,N)\n",
    "    h = x[1]-x[0]\n",
    "    \n",
    "    #define the value of the integral \n",
    "    Fint = 0.0\n",
    "    \n",
    "    #perform the integral using simpsons method\n",
    "    for i in range(0,len(x)-2,2):\n",
    "        Fint += simpsons_core(f,x[i],h)\n",
    "        \n",
    "    #apply simpson's rule over the last interval\n",
    "    #if N is even\n",
    "    if ((N%2)==0):\n",
    "        Fint += simpson_core(f,x[-2],0.5*h)\n",
    "        \n",
    "    return Fint"
   ]
  },
  {
   "cell_type": "markdown",
   "id": "bd7b8208",
   "metadata": {},
   "source": [
    "## Romberg Integration Core"
   ]
  },
  {
   "cell_type": "code",
   "execution_count": 125,
   "id": "4530799f",
   "metadata": {},
   "outputs": [],
   "source": [
    "def romberg_core(f,a,b,i):\n",
    "    \n",
    "    #we need the difference b-a\n",
    "    h = np.pi-0\n",
    "    \n",
    "    #and the increment between new func evals\n",
    "    dh = h/2.**(i)\n",
    "    \n",
    "    #we need the cofactor\n",
    "    K = h/2.**(i+1)\n",
    "    \n",
    "    #and the function evaluations\n",
    "    M = 0.0\n",
    "    for j in range (2**i):\n",
    "        M += f(a +0.5*dh + j*dh)\n",
    "    \n",
    "    #return the answer\n",
    "    return K*M    "
   ]
  },
  {
   "cell_type": "code",
   "execution_count": 126,
   "id": "0d61fb1b",
   "metadata": {},
   "outputs": [],
   "source": [
    "def romberg_integration(f,a,b,tol):\n",
    "\n",
    "    #define iteration variable\n",
    "    i = 0\n",
    "    \n",
    "    #define a max number of iterations\n",
    "    imax = 1000\n",
    "    \n",
    "    #define an error estimate, set to a large value\n",
    "    delta = 100.0*np.fabs(tol)\n",
    "    \n",
    "    #set an array of integral answers\n",
    "    I = np.zeros(imax,dtype=float)\n",
    "    \n",
    "    #get the zeroth.romberg iteration\n",
    "    I[0] = 0.5*(b-a)*(f(a) + f(b))\n",
    "    \n",
    "    #iterate by 1\n",
    "    i += 1\n",
    "    \n",
    "    while(delta>tol):\n",
    "        \n",
    "        #find this romberg iteration\n",
    "        I[i] = 0.5*I[i-1] + romberg_core(f,a,b,i)\n",
    "        \n",
    "        #compute this new fractional error estimate\n",
    "        delta = np.fabs( (I[i]-I[i-1])/I[i] )\n",
    "        \n",
    "        print(i,I[i],I[i-1],delta)\n",
    "        \n",
    "        if (delta>tol):\n",
    "            \n",
    "            #iterate\n",
    "            i+=1\n",
    "            \n",
    "            #if we've reached max iterations\n",
    "            if(i>imax):\n",
    "                print(\"Max iterations reached.\")\n",
    "                raise StopIteration ('Stopping iterations after ',i)\n",
    "    \n",
    "    #return the answer\n",
    "    return I[i]"
   ]
  },
  {
   "cell_type": "markdown",
   "id": "853c9879",
   "metadata": {},
   "source": [
    "## Check the integrals"
   ]
  },
  {
   "cell_type": "code",
   "execution_count": null,
   "id": "6e866bd0",
   "metadata": {},
   "outputs": [
    {
     "name": "stdout",
     "output_type": "stream",
     "text": [
      "0.019194856870544078\n",
      "Trapezoid\n",
      "2.949029909160572e-16\n",
      "Simpson's Method\n",
      "0.02137387588455973\n",
      "Romberg\n",
      "1 0.3339264267636862 0.6678528535273738 1.000000000000004\n",
      "2 0.16696321338184325 0.3339264267636862 0.9999999999999983\n",
      "3 0.08348160669092158 0.16696321338184325 1.0000000000000009\n",
      "4 0.04174080334546066 0.08348160669092158 1.0000000000000062\n",
      "5 0.020870401672730177 0.04174080334546066 1.0000000000000147\n",
      "6 0.010435200836365014 0.020870401672730177 1.0000000000000142\n",
      "7 0.005217600418182481 0.010435200836365014 1.00000000000001\n",
      "8 0.002608800209091247 0.005217600418182481 0.999999999999995\n",
      "9 0.001304400104545586 0.002608800209091247 1.0000000000000575\n",
      "10 0.0006522000522727619 0.001304400104545586 1.0000000000000955\n",
      "11 0.0003261000261363663 0.0006522000522727619 1.0000000000000897\n",
      "12 0.00016305001306811813 0.0003261000261363663 1.0000000000007976\n",
      "13 8.152500653403578e-05 0.00016305001306811813 1.000000000000571\n",
      "14 4.0762503266969494e-05 8.152500653403578e-05 1.0000000000023745\n",
      "15 2.038125163336016e-05 4.0762503266969494e-05 1.0000000000122258\n",
      "16 1.019062581670956e-05 2.038125163336016e-05 0.9999999999942143\n",
      "17 5.0953129084490985e-06 1.019062581670956e-05 0.9999999999629782\n",
      "18 2.54765645404711e-06 5.0953129084490985e-06 1.0000000001392961\n",
      "19 1.273828227014567e-06 2.54765645404711e-06 1.0000000000141116\n",
      "20 6.369141142045677e-07 1.273828227014567e-06 0.9999999978104295\n",
      "21 3.1845705720358434e-07 6.369141142045677e-07 0.9999999993638045\n",
      "22 1.5922852854113635e-07 3.1845705720358434e-07 1.0000000007618712\n",
      "23 7.961426335257715e-08 1.5922852854113635e-07 1.000000023060969\n",
      "24 3.980713090904891e-08 7.961426335257715e-08 1.0000000385478505\n"
     ]
    }
   ],
   "source": [
    "#### Answer = func_integral(np.pi)-func_integral(0)\n",
    "print(Answer)\n",
    "print(\"Trapezoid\")\n",
    "print(trapezoid_method(func,0,np.pi,10))\n",
    "print(\"Simpson's Method\")\n",
    "print(simpsons_method(func,0,np.pi,10))\n",
    "print(\"Romberg\")\n",
    "tolerance = 1.0e-6\n",
    "RI = romberg_integration(func,0,np.pi,tolerance)\n",
    "print(RI, (RI-Answer)/Answer,tolerance)"
   ]
  },
  {
   "cell_type": "markdown",
   "id": "279834e2",
   "metadata": {},
   "source": [
    "We see that for the trapezoid there is one iteration, for the simpson's method there is one iteration, and for the romberg iteration there are 20 iterations\n"
   ]
  },
  {
   "cell_type": "code",
   "execution_count": null,
   "id": "9c359581",
   "metadata": {},
   "outputs": [],
   "source": []
  }
 ],
 "metadata": {
  "kernelspec": {
   "display_name": "Python 3 (ipykernel)",
   "language": "python",
   "name": "python3"
  },
  "language_info": {
   "codemirror_mode": {
    "name": "ipython",
    "version": 3
   },
   "file_extension": ".py",
   "mimetype": "text/x-python",
   "name": "python",
   "nbconvert_exporter": "python",
   "pygments_lexer": "ipython3",
   "version": "3.9.7"
  }
 },
 "nbformat": 4,
 "nbformat_minor": 5
}
